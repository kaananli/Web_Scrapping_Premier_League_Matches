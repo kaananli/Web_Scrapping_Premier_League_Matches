{
  "nbformat": 4,
  "nbformat_minor": 0,
  "metadata": {
    "colab": {
      "provenance": []
    },
    "kernelspec": {
      "name": "python3",
      "display_name": "Python 3"
    },
    "language_info": {
      "name": "python"
    }
  },
  "cells": [
    {
      "cell_type": "code",
      "execution_count": null,
      "metadata": {
        "id": "64SNR6cC9uQS"
      },
      "outputs": [],
      "source": [
        "from urllib.request import urlopen\n",
        "import requests\n",
        "from bs4 import BeautifulSoup as bts\n",
        "import pandas as pd\n",
        "import re\n",
        "import time\n",
        "import sys\n",
        "from datetime import datetime\n",
        "from datetime import date\n",
        "import json"
      ]
    },
    {
      "cell_type": "code",
      "source": [
        "def fetch_data(year, standing_url):\n",
        "    all_matches = []\n",
        "    data = requests.get(standing_url)\n",
        "    soup = bts(data.text, 'html.parser')\n",
        "    standing_table = soup.select_one('table.stats_table')\n",
        "    \n",
        "    links = [f\"https://fbref.com{l.get('href')}\" for l in standing_table.find_all('a') if '/squads/' in l.get('href')]\n",
        "    \n",
        "    for team_url in links:\n",
        "        team_name = team_url.split(\"/\")[-1].replace(\"-Stats\", \"\").replace(\"-\", \" \")\n",
        "        \n",
        "        data = requests.get(team_url)\n",
        "        matches = pd.read_html(data.text, match=\"Scores & Fixtures\")[0]\n",
        "        soup = bts(data.text, 'html.parser')\n",
        "        \n",
        "        links = [f\"https://fbref.com{l.get('href')}\" for l in soup.find_all('a') if l.get('href') and \"all_comps/shooting/\" in l.get('href')]\n",
        "        \n",
        "        if len(links) == 0:\n",
        "            continue\n",
        "        \n",
        "        data = requests.get(links[0])\n",
        "        try:\n",
        "            shooting = pd.read_html(data.text, match=\"Shooting\")[0]\n",
        "            shooting.columns = shooting.columns.droplevel()\n",
        "        except ValueError:\n",
        "            continue\n",
        "        \n",
        "        try:\n",
        "            team_data = matches.merge(shooting[[\"Date\", \"Sh\", \"SoT\", \"Dist\",\"FK\", \"PK\", \"PKatt\"]], on=\"Date\")\n",
        "        except ValueError:\n",
        "            continue\n",
        "        \n",
        "        team_data = team_data[team_data[\"Comp\"] == \"Premier League\"]\n",
        "        team_data[\"Season\"] = year\n",
        "        team_data[\"Team\"] = team_name\n",
        "        all_matches.append(team_data)\n",
        "        time.sleep(1)\n",
        "        \n",
        "    return pd.concat(all_matches)\n",
        "\n",
        "years = list(range(2023,2017, -1))\n",
        "all_data = []\n",
        "\n",
        "for year in years:\n",
        "    standing_url = f\"https://fbref.com/en/comps/9/{year}-Premier-League-Stats\"\n",
        "    all_data.append(fetch_data(year, standing_url))"
      ],
      "metadata": {
        "id": "-BTBPphj9yMo"
      },
      "execution_count": null,
      "outputs": []
    }
  ]
}